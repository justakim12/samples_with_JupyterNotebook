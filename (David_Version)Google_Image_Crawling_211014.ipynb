{
  "nbformat": 4,
  "nbformat_minor": 0,
  "metadata": {
    "colab": {
      "name": "(David Version)Google Image Crawling_211014.ipynb",
      "provenance": [],
      "collapsed_sections": [],
      "include_colab_link": true
    },
    "kernelspec": {
      "name": "python3",
      "display_name": "Python 3"
    },
    "language_info": {
      "name": "python"
    }
  },
  "cells": [
    {
      "cell_type": "markdown",
      "metadata": {
        "id": "view-in-github",
        "colab_type": "text"
      },
      "source": [
        "<a href=\"https://colab.research.google.com/github/justakim12/samples_with_JupyterNotebook/blob/main/(David_Version)Google_Image_Crawling_211014.ipynb\" target=\"_parent\"><img src=\"https://colab.research.google.com/assets/colab-badge.svg\" alt=\"Open In Colab\"/></a>"
      ]
    },
    {
      "cell_type": "markdown",
      "metadata": {
        "id": "RnqMX8ussj9H"
      },
      "source": [
        "## **주의!** </br>\n",
        "### 해당 코드에서 일정 시간이 지나면 다운로드한 파일들이 사라지게 됩니다. \n",
        "### Crawling하는데 시간이 걸리니, Crawling 완료한 이후 꼭 압축하고 본인 컴퓨터에 다운받아주세요"
      ]
    },
    {
      "cell_type": "code",
      "metadata": {
        "id": "fxm5BQhZ54fa"
      },
      "source": [
        "!pip install --upgrade git+https://github.com/Joeclinton1/google-images-download.git\n",
        "!sudo apt install chromium-chromedriver\n",
        "!cp /usr/lib/chromium-browser/chromedriver /usr/bin"
      ],
      "execution_count": null,
      "outputs": []
    },
    {
      "cell_type": "code",
      "metadata": {
        "id": "McQ0POXh563k"
      },
      "source": [
        "from google_images_download import google_images_download\n",
        "\n",
        "response = google_images_download.googleimagesdownload()"
      ],
      "execution_count": 17,
      "outputs": []
    },
    {
      "cell_type": "code",
      "metadata": {
        "id": "jzIXle_KCq3K"
      },
      "source": [
        "class Crawl():\n",
        "  def __init__(self, keywords, output_directory, limit=500, no_numbering = False, print_urls = False, chromedriver = \"/usr/bin/chromedriver\"):\n",
        "    self.keywords = keywords\n",
        "    self.output_directory = output_directory\n",
        "    self.limit = limit\n",
        "    self.no_numbering = no_numbering\n",
        "    self.print_urls = print_urls\n",
        "    self.chromedriver = chromedriver\n",
        "\n",
        "  def crawl_images(self):\n",
        "    arguments = {\"keywords\":self.keywords, \"limit\":self.limit, \"print_urls\":self.print_urls, \"chromedriver\":self.chromedriver, \"output_directory\":self.output_directory , \"no_numbering\":self.no_numbering}\n",
        "    paths = response.download(arguments)\n",
        "  "
      ],
      "execution_count": 15,
      "outputs": []
    },
    {
      "cell_type": "code",
      "metadata": {
        "id": "EPzLsqalE7Ij"
      },
      "source": [
        "search_keyword = '승차권'\n",
        "output_directory = './승차권'\n",
        "\n",
        "Crawl(search_keyword, output_directory).crawl_images()\n",
        "!zip -r /content/승차권.zip /content/승차권"
      ],
      "execution_count": null,
      "outputs": []
    },
    {
      "cell_type": "code",
      "metadata": {
        "id": "-I3OLWpP8GNY"
      },
      "source": [
        "search_keyword = '명함'\n",
        "output_directory = './명함'\n",
        "\n",
        "Crawl(search_keyword, output_directory).crawl_images()\n",
        "!zip -r /content/명함.zip /content/명함"
      ],
      "execution_count": null,
      "outputs": []
    }
  ]
}